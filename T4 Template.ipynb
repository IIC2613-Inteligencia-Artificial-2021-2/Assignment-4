{
 "cells": [
  {
   "cell_type": "markdown",
   "id": "29984aa0",
   "metadata": {},
   "source": [
    "# Datos\n",
    "**Nombre:**\n",
    "\n",
    "**Número de alumno:**\n",
    "\n",
    "A continuación, debes establecer una *seed* en base a tu número de alumno para que tus resultados sean replicables:"
   ]
  },
  {
   "cell_type": "code",
   "execution_count": 1,
   "id": "8d5c51f5",
   "metadata": {},
   "outputs": [],
   "source": [
    "numero_alumno = None\n",
    "# Sets a random seed for replicable values\n",
    "import tensorflow as tf\n",
    "import numpy as np\n",
    "import random\n",
    "\n",
    "random.seed(numero_alumno)\n",
    "np.random.seed(numero_alumno)\n",
    "tf.random.set_seed(numero_alumno)"
   ]
  },
  {
   "cell_type": "markdown",
   "id": "fd1880a7",
   "metadata": {},
   "source": [
    "# 1. Redes Neuronales\n",
    "## Actividad 1"
   ]
  },
  {
   "cell_type": "code",
   "execution_count": null,
   "id": "d371f667",
   "metadata": {},
   "outputs": [],
   "source": []
  },
  {
   "cell_type": "markdown",
   "id": "78aea0e9",
   "metadata": {},
   "source": [
    "## Actividad 2"
   ]
  },
  {
   "cell_type": "code",
   "execution_count": null,
   "id": "6c1a7866",
   "metadata": {},
   "outputs": [],
   "source": []
  },
  {
   "cell_type": "markdown",
   "id": "3abfc570",
   "metadata": {},
   "source": [
    "## Actividad 3"
   ]
  },
  {
   "cell_type": "code",
   "execution_count": null,
   "id": "b774bc48",
   "metadata": {},
   "outputs": [],
   "source": []
  },
  {
   "cell_type": "markdown",
   "id": "4dc24402",
   "metadata": {},
   "source": [
    "## Actividad 4"
   ]
  },
  {
   "cell_type": "code",
   "execution_count": null,
   "id": "1c11c9f5",
   "metadata": {},
   "outputs": [],
   "source": []
  },
  {
   "cell_type": "markdown",
   "id": "42cb0d19",
   "metadata": {},
   "source": [
    "## Actividad 5"
   ]
  },
  {
   "cell_type": "code",
   "execution_count": null,
   "id": "ff6d83af",
   "metadata": {},
   "outputs": [],
   "source": []
  },
  {
   "cell_type": "markdown",
   "id": "1c34b344",
   "metadata": {},
   "source": [
    "## Actividad 6"
   ]
  },
  {
   "cell_type": "code",
   "execution_count": null,
   "id": "4fa463dc",
   "metadata": {},
   "outputs": [],
   "source": []
  },
  {
   "cell_type": "markdown",
   "id": "93b24921",
   "metadata": {},
   "source": [
    "## Actividad 7"
   ]
  },
  {
   "cell_type": "code",
   "execution_count": null,
   "id": "44c61771",
   "metadata": {},
   "outputs": [],
   "source": []
  },
  {
   "cell_type": "markdown",
   "id": "cb74bc0c",
   "metadata": {},
   "source": [
    "# 2. Reinforcement Learning\n",
    "\n",
    "## Actividad 1"
   ]
  },
  {
   "cell_type": "markdown",
   "id": "80c30314",
   "metadata": {},
   "source": []
  },
  {
   "cell_type": "markdown",
   "id": "d192a165",
   "metadata": {},
   "source": [
    "## Actividad 2 (Código)"
   ]
  },
  {
   "cell_type": "markdown",
   "id": "c2620cc8",
   "metadata": {},
   "source": [
    "## Actividad 3"
   ]
  },
  {
   "cell_type": "markdown",
   "id": "f52f4668",
   "metadata": {},
   "source": []
  },
  {
   "cell_type": "markdown",
   "id": "299b8ad1",
   "metadata": {},
   "source": [
    "## Bonus 1"
   ]
  },
  {
   "cell_type": "code",
   "execution_count": null,
   "id": "920d9b6b",
   "metadata": {},
   "outputs": [],
   "source": []
  },
  {
   "cell_type": "markdown",
   "id": "3ca99b58",
   "metadata": {},
   "source": [
    "# Referencias"
   ]
  },
  {
   "cell_type": "markdown",
   "id": "4e63f8c1",
   "metadata": {},
   "source": []
  }
 ],
 "metadata": {
  "kernelspec": {
   "display_name": "Python 3 (ipykernel)",
   "language": "python",
   "name": "python3"
  },
  "language_info": {
   "codemirror_mode": {
    "name": "ipython",
    "version": 3
   },
   "file_extension": ".py",
   "mimetype": "text/x-python",
   "name": "python",
   "nbconvert_exporter": "python",
   "pygments_lexer": "ipython3",
   "version": "3.9.7"
  }
 },
 "nbformat": 4,
 "nbformat_minor": 5
}
